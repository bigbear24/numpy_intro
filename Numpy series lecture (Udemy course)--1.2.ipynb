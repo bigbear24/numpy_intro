{
 "cells": [
  {
   "cell_type": "markdown",
   "metadata": {},
   "source": [
    "# MORE ON NUMPY\n"
   ]
  },
  {
   "cell_type": "code",
   "execution_count": null,
   "metadata": {},
   "outputs": [],
   "source": []
  },
  {
   "cell_type": "code",
   "execution_count": 16,
   "metadata": {},
   "outputs": [
    {
     "data": {
      "text/plain": [
       "[[1, 2, 3, 4], [5, 6, 7, 8]]"
      ]
     },
     "execution_count": 16,
     "metadata": {},
     "output_type": "execute_result"
    }
   ],
   "source": [
    "# WE WILL TALK ABOUT CHANGING THE SHAPE OF ARRAY/MATRICES.\n",
    "import numpy as np\n",
    "list1=[[1,2,3,4],[5,6,7,8]]\n",
    "list1"
   ]
  },
  {
   "cell_type": "code",
   "execution_count": 17,
   "metadata": {},
   "outputs": [
    {
     "data": {
      "text/plain": [
       "array([[1, 2, 3, 4],\n",
       "       [5, 6, 7, 8]])"
      ]
     },
     "execution_count": 17,
     "metadata": {},
     "output_type": "execute_result"
    }
   ],
   "source": [
    "arr1=np.array(list1)\n",
    "arr1# the current shape is (2,4) ie total of 8 elements"
   ]
  },
  {
   "cell_type": "code",
   "execution_count": 18,
   "metadata": {},
   "outputs": [
    {
     "data": {
      "text/plain": [
       "8"
      ]
     },
     "execution_count": 18,
     "metadata": {},
     "output_type": "execute_result"
    }
   ],
   "source": [
    "arr1.size"
   ]
  },
  {
   "cell_type": "code",
   "execution_count": 19,
   "metadata": {},
   "outputs": [
    {
     "data": {
      "text/plain": [
       "array([[1, 2],\n",
       "       [3, 4],\n",
       "       [5, 6],\n",
       "       [7, 8]])"
      ]
     },
     "execution_count": 19,
     "metadata": {},
     "output_type": "execute_result"
    }
   ],
   "source": [
    "#now lets change the shape using '.reshape()' method .\n",
    "arr1.reshape(4,2)"
   ]
  },
  {
   "cell_type": "code",
   "execution_count": 20,
   "metadata": {},
   "outputs": [
    {
     "data": {
      "text/plain": [
       "array([1, 2, 3, 4, 5, 6, 7, 8])"
      ]
     },
     "execution_count": 20,
     "metadata": {},
     "output_type": "execute_result"
    }
   ],
   "source": [
    "# we can even convert an n-dimensional array into single dimension array ie  using 2 different function .\n",
    "arr1.ravel() "
   ]
  },
  {
   "cell_type": "code",
   "execution_count": 21,
   "metadata": {},
   "outputs": [
    {
     "data": {
      "text/plain": [
       "array([1, 2, 3, 4, 5, 6, 7, 8])"
      ]
     },
     "execution_count": 21,
     "metadata": {},
     "output_type": "execute_result"
    }
   ],
   "source": [
    "arr1.flatten()"
   ]
  },
  {
   "cell_type": "code",
   "execution_count": 22,
   "metadata": {},
   "outputs": [
    {
     "data": {
      "text/plain": [
       "array([[1, 2, 3, 4],\n",
       "       [5, 6, 7, 8]])"
      ]
     },
     "execution_count": 22,
     "metadata": {},
     "output_type": "execute_result"
    }
   ],
   "source": [
    "# but there is a difference between '.ravel()' and '.flatten()'\n",
    "# the ravel is said to be more optimized and  creates a reference  \n",
    "# while flatten creates a copy therefore in case of change in original array no change is seen .\n",
    "# in ravel changes in the array would lead to change in the original since it is a reference\n",
    "#data saving function because it creates a reference to the original array instead of making a copy of it unlike flatten().\n",
    "# there for if changes are made , this would lead to changes in the original array as well.\n",
    "arr1"
   ]
  },
  {
   "cell_type": "code",
   "execution_count": 23,
   "metadata": {},
   "outputs": [
    {
     "data": {
      "text/plain": [
       "array([1, 2, 3, 4, 5, 6, 7, 8])"
      ]
     },
     "execution_count": 23,
     "metadata": {},
     "output_type": "execute_result"
    }
   ],
   "source": [
    "arrcopy=arr1.flatten()\n",
    "arrcopy # here we created a copy using flatten , we see change in the arrcopy wont change anything in the original array"
   ]
  },
  {
   "cell_type": "code",
   "execution_count": 24,
   "metadata": {},
   "outputs": [
    {
     "data": {
      "text/plain": [
       "array([1, 2, 3, 4, 5, 6, 7, 8])"
      ]
     },
     "execution_count": 24,
     "metadata": {},
     "output_type": "execute_result"
    }
   ],
   "source": [
    "# but performing the same operation with \".ravel()\" function will create altogether change in the original as well.\n",
    "# ravel() creates a reference  instead .\n",
    "arrcopy1=arr1.ravel()\n",
    "arrcopy1"
   ]
  },
  {
   "cell_type": "code",
   "execution_count": 25,
   "metadata": {},
   "outputs": [
    {
     "data": {
      "text/plain": [
       "array([[-8,  2,  3,  4],\n",
       "       [ 5,  6,  7,  8]])"
      ]
     },
     "execution_count": 25,
     "metadata": {},
     "output_type": "execute_result"
    }
   ],
   "source": [
    "# now we will change the data type of \"arrcopy1\" and same will be reflected in original arr1 as wel\n",
    "\n",
    "arr1[0,0]=-8\n",
    "arr1\n"
   ]
  },
  {
   "cell_type": "code",
   "execution_count": 26,
   "metadata": {},
   "outputs": [
    {
     "data": {
      "text/plain": [
       "array([-8,  2,  3,  4,  5,  6,  7,  8])"
      ]
     },
     "execution_count": 26,
     "metadata": {},
     "output_type": "execute_result"
    }
   ],
   "source": [
    "# we see the change as the reference worked for ravel\n",
    "arrcopy1"
   ]
  },
  {
   "cell_type": "markdown",
   "metadata": {},
   "source": [
    "# Logspace ,Linespace,Range,Array Repitition"
   ]
  },
  {
   "cell_type": "code",
   "execution_count": 28,
   "metadata": {},
   "outputs": [
    {
     "data": {
      "text/plain": [
       "array([[-8,  2,  3,  4],\n",
       "       [ 5,  6,  7,  8]])"
      ]
     },
     "execution_count": 28,
     "metadata": {},
     "output_type": "execute_result"
    }
   ],
   "source": [
    "arr1 # now lets try to form a new array on line scale and log scale"
   ]
  },
  {
   "cell_type": "code",
   "execution_count": 39,
   "metadata": {},
   "outputs": [
    {
     "data": {
      "text/plain": [
       "array([ 1,  3,  5,  7,  9, 11, 13, 15, 17, 19, 21, 23, 25, 27, 29, 31, 33,\n",
       "       35, 37, 39, 41, 43, 45, 47, 49, 51])"
      ]
     },
     "execution_count": 39,
     "metadata": {},
     "output_type": "execute_result"
    }
   ],
   "source": [
    "# range type array formation \n",
    "arr4=np.arange(1,52,2,dtype=\"int\")# here the attributes are start ,stop , step , dtype \n",
    "arr4"
   ]
  },
  {
   "cell_type": "code",
   "execution_count": 40,
   "metadata": {},
   "outputs": [
    {
     "data": {
      "text/plain": [
       "26"
      ]
     },
     "execution_count": 40,
     "metadata": {},
     "output_type": "execute_result"
    }
   ],
   "source": [
    "# lets find out the size and shape of this array formed \n",
    "arr4.size"
   ]
  },
  {
   "cell_type": "code",
   "execution_count": 41,
   "metadata": {},
   "outputs": [
    {
     "data": {
      "text/plain": [
       "(26,)"
      ]
     },
     "execution_count": 41,
     "metadata": {},
     "output_type": "execute_result"
    }
   ],
   "source": [
    "arr4.shape\n"
   ]
  },
  {
   "cell_type": "code",
   "execution_count": 43,
   "metadata": {},
   "outputs": [
    {
     "data": {
      "text/plain": [
       "array([[ 1,  3,  5,  7,  9, 11, 13, 15, 17, 19, 21, 23, 25],\n",
       "       [27, 29, 31, 33, 35, 37, 39, 41, 43, 45, 47, 49, 51]])"
      ]
     },
     "execution_count": 43,
     "metadata": {},
     "output_type": "execute_result"
    }
   ],
   "source": [
    "#lets change the shape of this now \n",
    "arr4.reshape(2,13)"
   ]
  },
  {
   "cell_type": "code",
   "execution_count": 53,
   "metadata": {},
   "outputs": [
    {
     "data": {
      "text/plain": [
       "array([ 1.        ,  2.25641026,  3.51282051,  4.76923077,  6.02564103,\n",
       "        7.28205128,  8.53846154,  9.79487179, 11.05128205, 12.30769231,\n",
       "       13.56410256, 14.82051282, 16.07692308, 17.33333333, 18.58974359,\n",
       "       19.84615385, 21.1025641 , 22.35897436, 23.61538462, 24.87179487,\n",
       "       26.12820513, 27.38461538, 28.64102564, 29.8974359 , 31.15384615,\n",
       "       32.41025641, 33.66666667, 34.92307692, 36.17948718, 37.43589744,\n",
       "       38.69230769, 39.94871795, 41.20512821, 42.46153846, 43.71794872,\n",
       "       44.97435897, 46.23076923, 47.48717949, 48.74358974, 50.        ])"
      ]
     },
     "execution_count": 53,
     "metadata": {},
     "output_type": "execute_result"
    }
   ],
   "source": [
    "#lets try array on log and linescale now \n",
    "# lets start with array on linescale(linespace) first \n",
    "arr5=np.linspace(1,50,40)# the attributes are start ,stop , and no. of elements that we want \n",
    "arr5"
   ]
  },
  {
   "cell_type": "code",
   "execution_count": 57,
   "metadata": {},
   "outputs": [
    {
     "data": {
      "text/plain": [
       "array([1.00000000e+00, 5.29831691e+01, 2.80721620e+03, 1.48735211e+05,\n",
       "       7.88046282e+06, 4.17531894e+08, 2.21221629e+10, 1.17210230e+12,\n",
       "       6.21016942e+13, 3.29034456e+15, 1.74332882e+17, 9.23670857e+18,\n",
       "       4.89390092e+20, 2.59294380e+22, 1.37382380e+24, 7.27895384e+25,\n",
       "       3.85662042e+27, 2.04335972e+29, 1.08263673e+31, 5.73615251e+32,\n",
       "       3.03919538e+34, 1.61026203e+36, 8.53167852e+37, 4.52035366e+39,\n",
       "       2.39502662e+41, 1.26896100e+43, 6.72335754e+44, 3.56224789e+46,\n",
       "       1.88739182e+48, 1.00000000e+50])"
      ]
     },
     "execution_count": 57,
     "metadata": {},
     "output_type": "execute_result"
    }
   ],
   "source": [
    "# lets find out how to produce array on logspace\n",
    "arr6=np.logspace(0,50,30)\n",
    "arr6\n",
    "#This is log scale  for no. between log scale 0 to 50 , for 30 elements"
   ]
  },
  {
   "cell_type": "code",
   "execution_count": 58,
   "metadata": {},
   "outputs": [
    {
     "data": {
      "text/plain": [
       "array([[-8,  2,  3,  4],\n",
       "       [ 5,  6,  7,  8]])"
      ]
     },
     "execution_count": 58,
     "metadata": {},
     "output_type": "execute_result"
    }
   ],
   "source": [
    "# How to make the whole array copy \n",
    "arr1"
   ]
  },
  {
   "cell_type": "code",
   "execution_count": 61,
   "metadata": {},
   "outputs": [
    {
     "data": {
      "text/plain": [
       "array([[-8,  2,  3,  4, -8,  2,  3,  4, -8,  2,  3,  4],\n",
       "       [ 5,  6,  7,  8,  5,  6,  7,  8,  5,  6,  7,  8]])"
      ]
     },
     "execution_count": 61,
     "metadata": {},
     "output_type": "execute_result"
    }
   ],
   "source": [
    "# tile repeats the whole array instead of elementary operation \n",
    "np.tile(arr1,3) # the attributes for the array you want to repeat and the no. of times you want to repeat \n"
   ]
  },
  {
   "cell_type": "code",
   "execution_count": 64,
   "metadata": {},
   "outputs": [
    {
     "data": {
      "text/plain": [
       "array([-8, -8, -8, -8,  2,  2,  2,  2,  3,  3,  3,  3,  4,  4,  4,  4,  5,\n",
       "        5,  5,  5,  6,  6,  6,  6,  7,  7,  7,  7,  8,  8,  8,  8])"
      ]
     },
     "execution_count": 64,
     "metadata": {},
     "output_type": "execute_result"
    }
   ],
   "source": [
    "np.repeat(arr1,4) # see the difference between repeat and tile function "
   ]
  },
  {
   "cell_type": "markdown",
   "metadata": {},
   "source": [
    "# Random module in numpy and Unique values in array \n"
   ]
  },
  {
   "cell_type": "code",
   "execution_count": 71,
   "metadata": {},
   "outputs": [
    {
     "data": {
      "text/plain": [
       "array([[[0.38300673, 0.11383703, 0.38843032],\n",
       "        [0.88286057, 0.50076128, 0.45045586],\n",
       "        [0.88649982, 0.76862798, 0.23961626]],\n",
       "\n",
       "       [[0.52888187, 0.3646662 , 0.95177824],\n",
       "        [0.22330864, 0.84493426, 0.76810685],\n",
       "        [0.18510164, 0.32156328, 0.53040455]],\n",
       "\n",
       "       [[0.53030933, 0.02086935, 0.99239966],\n",
       "        [0.65948785, 0.73082578, 0.9128747 ],\n",
       "        [0.74771799, 0.70111294, 0.11086224]],\n",
       "\n",
       "       [[0.07583962, 0.48308124, 0.88718107],\n",
       "        [0.91141765, 0.71190102, 0.44697462],\n",
       "        [0.38471525, 0.69691117, 0.92074328]],\n",
       "\n",
       "       [[0.13216838, 0.76013241, 0.84326283],\n",
       "        [0.84694852, 0.60101464, 0.66829517],\n",
       "        [0.54797298, 0.70273413, 0.30592635]],\n",
       "\n",
       "       [[0.81094179, 0.93798609, 0.38435129],\n",
       "        [0.07144961, 0.15329089, 0.87143057],\n",
       "        [0.26490126, 0.02014832, 0.25029535]]])"
      ]
     },
     "execution_count": 71,
     "metadata": {},
     "output_type": "execute_result"
    }
   ],
   "source": [
    "# Lets introduce the random module in this numpy series \n",
    "import random\n",
    "arr_1=np.random.rand(6,3,3)\n",
    "# remember the attirbutes refer to the size of the array (ie no. od rows and columns or simply dimension ).\n",
    "# we can even make three dimension (ie axis x rows x columns ) or more .\n",
    "arr_1\n"
   ]
  },
  {
   "cell_type": "code",
   "execution_count": 75,
   "metadata": {},
   "outputs": [
    {
     "data": {
      "text/plain": [
       "array([[ 2,  2,  7],\n",
       "       [18,  8, 10]])"
      ]
     },
     "execution_count": 75,
     "metadata": {},
     "output_type": "execute_result"
    }
   ],
   "source": [
    "# lets use random integer funtion \n",
    "arr_2=np.random.randint(20,size=[2,3])#the attributes is different ie.the last no. and the size\n",
    "arr_2"
   ]
  },
  {
   "cell_type": "code",
   "execution_count": 86,
   "metadata": {},
   "outputs": [
    {
     "data": {
      "text/plain": [
       "array([[0, 1, 1],\n",
       "       [0, 1, 1]])"
      ]
     },
     "execution_count": 86,
     "metadata": {},
     "output_type": "execute_result"
    }
   ],
   "source": [
    "# If you want to make an array with the with same random number \n",
    "np.random.seed(0) # this seed function make sure we get the same random module for a particular attribute (here it is \"0\")\n",
    "arr_3=np.random.randint(2,size=(2,3))\n",
    "arr_3"
   ]
  },
  {
   "cell_type": "code",
   "execution_count": 93,
   "metadata": {},
   "outputs": [],
   "source": [
    "# if you would change the seed attribute to \"1 or 2\" then the set of random numbers in arr_3 will change.(shift +tabx2 to read the \n",
    "#documention of the functions )"
   ]
  },
  {
   "cell_type": "code",
   "execution_count": 102,
   "metadata": {},
   "outputs": [
    {
     "data": {
      "text/plain": [
       "array([1, 2, 3, 4, 5])"
      ]
     },
     "execution_count": 102,
     "metadata": {},
     "output_type": "execute_result"
    }
   ],
   "source": [
    "# now suppose you have an array and you want to find out the unique elements in the array and their frequency \n",
    "# for this we use \"np.unique\" function\n",
    "list2=[[1,2,2,3],[4,4,5,5]]\n",
    "arr_6=np.array(list2)\n",
    "arr_6\n",
    "number,counts=np.unique(arr_6,return_counts=True)# here we asked for the unique no. in the array and the no. of their counts\n",
    "number\n"
   ]
  },
  {
   "cell_type": "code",
   "execution_count": 105,
   "metadata": {},
   "outputs": [
    {
     "data": {
      "text/plain": [
       "array([1, 2, 1, 2, 2])"
      ]
     },
     "execution_count": 105,
     "metadata": {},
     "output_type": "execute_result"
    }
   ],
   "source": [
    "counts # the above numbers occured these many times ie the counts of these numbers"
   ]
  },
  {
   "cell_type": "markdown",
   "metadata": {},
   "source": [
    "# ENd  of this Part ........"
   ]
  }
 ],
 "metadata": {
  "kernelspec": {
   "display_name": "Python 3",
   "language": "python",
   "name": "python3"
  },
  "language_info": {
   "codemirror_mode": {
    "name": "ipython",
    "version": 3
   },
   "file_extension": ".py",
   "mimetype": "text/x-python",
   "name": "python",
   "nbconvert_exporter": "python",
   "pygments_lexer": "ipython3",
   "version": "3.8.1"
  }
 },
 "nbformat": 4,
 "nbformat_minor": 4
}
